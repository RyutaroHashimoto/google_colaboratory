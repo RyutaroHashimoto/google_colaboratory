{
  "nbformat": 4,
  "nbformat_minor": 0,
  "metadata": {
    "colab": {
      "name": "Google_Colab.ipynb",
      "version": "0.3.2",
      "provenance": [],
      "private_outputs": true,
      "collapsed_sections": [],
      "toc_visible": true
    },
    "kernelspec": {
      "name": "python3",
      "display_name": "Python 3"
    },
    "accelerator": "GPU"
  },
  "cells": [
    {
      "cell_type": "markdown",
      "metadata": {
        "id": "ppo4IdehnwsX",
        "colab_type": "text"
      },
      "source": [
        "<h1> チートシート的なsomething</h1>\n",
        "\n",
        "\n",
        "\n"
      ]
    },
    {
      "cell_type": "markdown",
      "metadata": {
        "id": "ajcHLOvuxwfL",
        "colab_type": "text"
      },
      "source": [
        "# ワーキングディレクトリの確認\n",
        "\n",
        "\n",
        ">デフォルトでは /contentで作業している\n",
        "\n"
      ]
    },
    {
      "cell_type": "markdown",
      "metadata": {
        "id": "xyz7qmid0nLV",
        "colab_type": "text"
      },
      "source": [
        ""
      ]
    },
    {
      "cell_type": "code",
      "metadata": {
        "id": "kDKm3NqxsLVJ",
        "colab_type": "code",
        "colab": {}
      },
      "source": [
        "!pwd"
      ],
      "execution_count": 0,
      "outputs": []
    },
    {
      "cell_type": "code",
      "metadata": {
        "id": "pZqvQEWlx7N5",
        "colab_type": "code",
        "colab": {}
      },
      "source": [
        "!ls"
      ],
      "execution_count": 0,
      "outputs": []
    },
    {
      "cell_type": "markdown",
      "metadata": {
        "id": "o1Ry8wcdnG1M",
        "colab_type": "text"
      },
      "source": [
        "# ドライブをマウント\n",
        "> Google Driveと連携する。\n",
        "\n",
        "> Google Drive に保存されているファイルを使用できる。\n",
        "\n",
        "\n",
        "\n"
      ]
    },
    {
      "cell_type": "code",
      "metadata": {
        "id": "39nMvLWcnCzM",
        "colab_type": "code",
        "colab": {}
      },
      "source": [
        "from google.colab import drive\n",
        "drive.mount('/content/drive')"
      ],
      "execution_count": 0,
      "outputs": []
    },
    {
      "cell_type": "markdown",
      "metadata": {
        "id": "dk1-W0gxzFzW",
        "colab_type": "text"
      },
      "source": [
        "> マウントがうまくいくと/driveが追加される。\n",
        "\n",
        "\n",
        "\n",
        "\n"
      ]
    },
    {
      "cell_type": "code",
      "metadata": {
        "id": "QkJXNZstzADr",
        "colab_type": "code",
        "colab": {}
      },
      "source": [
        "!ls"
      ],
      "execution_count": 0,
      "outputs": []
    },
    {
      "cell_type": "markdown",
      "metadata": {
        "id": "rt531Av70EVX",
        "colab_type": "text"
      },
      "source": [
        ">/drive/My DriveからGoogle Driveのファイルが開けるようになる。"
      ]
    },
    {
      "cell_type": "code",
      "metadata": {
        "id": "3bJsqv9lzZzQ",
        "colab_type": "code",
        "colab": {}
      },
      "source": [
        "!ls \"drive/My Drive/google_colab\""
      ],
      "execution_count": 0,
      "outputs": []
    },
    {
      "cell_type": "markdown",
      "metadata": {
        "id": "g8m1Ht8FoAd5",
        "colab_type": "text"
      },
      "source": [
        "# ファイルアップロード1\n",
        "\n",
        "ローカルからアップロードする方法。\n",
        "\n",
        "下のコードを実行し、インタラクティブにアップロードするか、  \n",
        "左のメニューのファイルタブからアップロードする。  \n",
        "※この方法の場合ランタイムをクリアするとアップロードしたファイルも消えてしまうので注意。"
      ]
    },
    {
      "cell_type": "code",
      "metadata": {
        "id": "RNZBO1V-ofnl",
        "colab_type": "code",
        "colab": {}
      },
      "source": [
        "from google.colab import files\n",
        "\n",
        "uploaded = files.upload()\n",
        "\n",
        "for fn in uploaded.keys():\n",
        "  print('User uploaded file \"{name}\" with length {length} bytes'.format(\n",
        "      name=fn, length=len(uploaded[fn])))"
      ],
      "execution_count": 0,
      "outputs": []
    },
    {
      "cell_type": "markdown",
      "metadata": {
        "id": "m8VjFmiHo0xy",
        "colab_type": "text"
      },
      "source": [
        "# ファイルアップロード2\n",
        "Google Drive をマウントしておけばGoogle Drive経由でファイルをしようできる。  \n",
        "/drive/My Driveからアクセスできる。"
      ]
    },
    {
      "cell_type": "code",
      "metadata": {
        "id": "AR1cN7f4pE08",
        "colab_type": "code",
        "colab": {}
      },
      "source": [
        "# from google.colab import drive\n",
        "# drive.mount('/content/drive')"
      ],
      "execution_count": 0,
      "outputs": []
    },
    {
      "cell_type": "code",
      "metadata": {
        "id": "QeIfvPbs3xIS",
        "colab_type": "code",
        "colab": {}
      },
      "source": [
        "!ls \"drive/My Drive/google_colab\""
      ],
      "execution_count": 0,
      "outputs": []
    },
    {
      "cell_type": "markdown",
      "metadata": {
        "id": "zPTbdOznv0DM",
        "colab_type": "text"
      },
      "source": [
        "# モジュールインストール\n",
        "よく使うモジュールはデフォルトでインストールされている。  \n",
        "プレインストールされていないモジュールを使うのであれば下記コマンドでインストールできる。"
      ]
    },
    {
      "cell_type": "code",
      "metadata": {
        "id": "oxqzPj214krM",
        "colab_type": "code",
        "colab": {}
      },
      "source": [
        "#!pip list"
      ],
      "execution_count": 0,
      "outputs": []
    },
    {
      "cell_type": "code",
      "metadata": {
        "id": "YZg3YMxQpAPo",
        "colab_type": "code",
        "colab": {}
      },
      "source": [
        "!pip install keras"
      ],
      "execution_count": 0,
      "outputs": []
    },
    {
      "cell_type": "code",
      "metadata": {
        "id": "ndvb1e2T4Oeh",
        "colab_type": "code",
        "colab": {}
      },
      "source": [
        "import keras"
      ],
      "execution_count": 0,
      "outputs": []
    },
    {
      "cell_type": "markdown",
      "metadata": {
        "id": "4_HHqik6NyaG",
        "colab_type": "text"
      },
      "source": [
        "# 自動切断対策\n",
        "> 12時間&90分ルール\n",
        "\n",
        "\n",
        "*   【12時間ルール】新しいインスタンスを起動してから12時間経過\n",
        "*   【90分ルール】ノートブックのセッションが切れてから90分経過\n",
        "\n",
        "参考サイト\n",
        "https://qiita.com/enmaru/items/2770df602dd7778d4ce6"
      ]
    },
    {
      "cell_type": "markdown",
      "metadata": {
        "id": "oyfXmtL6g6ud",
        "colab_type": "text"
      },
      "source": [
        "一定時間ごとにnotebookにアクセスするプログラムaccess_colab.shを作成し"
      ]
    },
    {
      "cell_type": "code",
      "metadata": {
        "id": "uNfbTGO2gSuh",
        "colab_type": "code",
        "colab": {}
      },
      "source": [
        "\"\"\"\n",
        "#!/bin/bash\n",
        "\n",
        "for i in `seq 0 12`\n",
        "do\n",
        "  echo \"[$i]\" ` date '+%y/%m/%d %H:%M:%S'` \"connected.\"\n",
        "  open <<自分のノートブックのURL>>\n",
        "  sleep 3600\n",
        "done\n",
        "\"\"\""
      ],
      "execution_count": 0,
      "outputs": []
    },
    {
      "cell_type": "markdown",
      "metadata": {
        "id": "WZRDR__Lht27",
        "colab_type": "text"
      },
      "source": [
        "ターミナルで実行する。"
      ]
    },
    {
      "cell_type": "code",
      "metadata": {
        "id": "jBIb_pwZhAKm",
        "colab_type": "code",
        "colab": {}
      },
      "source": [
        "\"\"\"\n",
        "$ ./access_colab.sh\n",
        "\"\"\""
      ],
      "execution_count": 0,
      "outputs": []
    },
    {
      "cell_type": "markdown",
      "metadata": {
        "id": "YMEqmKFyh5r6",
        "colab_type": "text"
      },
      "source": [
        "※初期設定でpermission errorが出る場合。"
      ]
    },
    {
      "cell_type": "code",
      "metadata": {
        "id": "mEFNn3NWhot-",
        "colab_type": "code",
        "colab": {}
      },
      "source": [
        "\"\"\"\n",
        "$chmod 755 access_colab.sh\n",
        "\"\"\""
      ],
      "execution_count": 0,
      "outputs": []
    },
    {
      "cell_type": "markdown",
      "metadata": {
        "id": "gMSHV33zh-yX",
        "colab_type": "text"
      },
      "source": [
        "パソコンを自動スリープさせない場合これで90分ルールを突破できる。"
      ]
    }
  ]
}